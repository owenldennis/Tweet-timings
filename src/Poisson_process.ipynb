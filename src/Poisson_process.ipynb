{
 "cells": [
  {
   "cell_type": "code",
   "execution_count": 38,
   "metadata": {},
   "outputs": [
    {
     "name": "stdout",
     "output_type": "stream",
     "text": [
      "RAND,INTER_ARRV_T,ARRV_T\n"
     ]
    },
    {
     "data": {
      "image/png": "[encoded data removed]",
      "text/plain": [
       "<matplotlib.figure.Figure at 0x1a7e971e860>"
      ]
     },
     "metadata": {},
     "output_type": "display_data"
    },
    {
     "name": "stdout",
     "output_type": "stream",
     "text": [
      "4.950574621933525\n"
     ]
    }
   ],
   "source": [
    "import random\n",
    "import math\n",
    "import numpy as np#\n",
    "import matplotlib.pyplot as plt\n",
    "\n",
    "_lambda = 5\n",
    "_num_arrivals = 10000\n",
    "_arrival_time = 0\n",
    "ps = []\n",
    "inters = []\n",
    "arrivals= []\n",
    "print('RAND,INTER_ARRV_T,ARRV_T')\n",
    "\n",
    "for i in range(_num_arrivals):\n",
    "    #Get the next probability value from Uniform(0,1)\n",
    "    ps.append(np.random.uniform())\n",
    "\n",
    "    #Plug it into the inverse of the CDF of Exponential(_lamnbda)\n",
    "    inters.append(-math.log(1.0 - ps[-1])/_lambda)\n",
    "\n",
    "    #Add the inter-arrival time to the running sum\n",
    "    \n",
    "    if i == 0:\n",
    "        arrivals.append(inters[-1])\n",
    "    else:\n",
    "        arrivals.append(arrivals[-1] + inters[-1])\n",
    "\n",
    "\t#print it all out\n",
    "\t#print(str(ps)+','+str(_inter_arrival_time)+','+str(_arrival_time))\n",
    "\n",
    "f,ax = plt.subplots(3,1)\n",
    "ax[0].hist(ps,bins=50)\n",
    "ax[1].hist(inters,bins=50)\n",
    "ax[2].plot(arrivals,range(_num_arrivals),'x')\n",
    "\n",
    "plt.show()\n",
    "print(_num_arrivals/arrivals[-1])\n"
   ]
  },
  {
   "cell_type": "code",
   "execution_count": 47,
   "metadata": {},
   "outputs": [
    {
     "name": "stdout",
     "output_type": "stream",
     "text": [
      "629 individuals infected means a super-spreader probability of 0.5002013872226841\n",
      "Hah\n"
     ]
    }
   ],
   "source": [
    "import numpy as np\n",
    "import random\n",
    "import math\n",
    "\n",
    "def poisson_prob(lmbda : float,r : int) -> float:\n",
    "    #print(r)\n",
    "    return np.exp(-lmbda)*lmbda**r/math.factorial(r)\n",
    "\n",
    "def cum_poisson(lmbda:float,r:int)->float:\n",
    "    return sum([poisson_prob(lmbda,i) for i in range(r+1)])\n",
    "\n",
    "\n",
    "result = 0\n",
    "new_result = 0\n",
    "count = 0\n",
    "while np.abs(result-0.5) >= np.abs(new_result-0.5) and count < 1000:\n",
    "    count+=1\n",
    "    result = new_result\n",
    "    new_result = cum_poisson(3,9)**count\n",
    "\n",
    "print(\"{0} individuals infected means a super-spreader probability of {1}\".format(count,result))\n",
    "\n",
    "#print([[ i for i in range(10)] for j in range(5)])\n",
    "s = None\n",
    "if not s:\n",
    "    print(\"Hah\")"
   ]
  },
  {
   "cell_type": "code",
   "execution_count": null,
   "metadata": {
    "collapsed": true
   },
   "outputs": [],
   "source": []
  }
 ],
 "metadata": {
  "kernelspec": {
   "display_name": "Python 3",
   "language": "python",
   "name": "python3"
  },
  "language_info": {
   "codemirror_mode": {
    "name": "ipython",
    "version": 3
   },
   "file_extension": ".py",
   "mimetype": "text/x-python",
   "name": "python",
   "nbconvert_exporter": "python",
   "pygments_lexer": "ipython3",
   "version": "3.6.10"
  }
 },
 "nbformat": 4,
 "nbformat_minor": 2
}
